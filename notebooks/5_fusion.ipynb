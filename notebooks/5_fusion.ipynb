{
 "cells": [
  {
   "cell_type": "markdown",
   "metadata": {},
   "source": [
    "In this notebook we explore the `fuse` and `optimize_fusion` methods and the `OptimizationReport` class offered by `ranx`."
   ]
  },
  {
   "cell_type": "markdown",
   "metadata": {},
   "source": [
    "First of all we need to install [ranx](https://github.com/AmenRa/ranx)\n",
    "\n",
    "Mind that the first time you run any ranx' functions they may take a while as they must be compiled first"
   ]
  },
  {
   "cell_type": "code",
   "execution_count": null,
   "metadata": {},
   "outputs": [],
   "source": [
    "!pip install -U ranx"
   ]
  },
  {
   "cell_type": "markdown",
   "metadata": {},
   "source": [
    "Download the data we need"
   ]
  },
  {
   "cell_type": "code",
   "execution_count": null,
   "metadata": {},
   "outputs": [],
   "source": [
    "import os\n",
    "import requests\n",
    "\n",
    "for file in [\"qrels\", \"run_4\", \"run_5\"]:\n",
    "    os.makedirs(\"notebooks/data\", exist_ok=True)\n",
    "\n",
    "    with open(f\"notebooks/data/{file}.trec\", \"w\") as f:\n",
    "        master = f\"https://raw.githubusercontent.com/AmenRa/ranx/master/notebooks/data/{file}.trec\"\n",
    "        f.write(requests.get(master).text)"
   ]
  },
  {
   "cell_type": "markdown",
   "metadata": {},
   "source": [
    "Load data"
   ]
  },
  {
   "cell_type": "code",
   "execution_count": 3,
   "metadata": {},
   "outputs": [],
   "source": [
    "from ranx import Qrels, Run\n",
    "\n",
    "# Let's load qrels and runs from files\n",
    "qrels = Qrels.from_file(\"notebooks/data/qrels.trec\", kind=\"trec\")\n",
    "\n",
    "run_4 = Run.from_file(\"notebooks/data/run_4.trec\", kind=\"trec\")\n",
    "run_4.name = \"System A\"\n",
    "run_5 = Run.from_file(\"notebooks/data/run_5.trec\", kind=\"trec\")\n",
    "run_5.name = \"System B\""
   ]
  },
  {
   "cell_type": "markdown",
   "metadata": {},
   "source": [
    "## Fuse\n",
    "\n",
    "Here are reported all the fusion algorithms provided by `ranx`, along with their aliases.  \n",
    "The **Optim.** column indicates whether an algorithm require an optimization phase.\n",
    "\n",
    "| **Algorithm**                                              | **Alias** | **Optim.** | **Algorithm**                            | **Alias**   | **Optim.** |\n",
    "| ---------------------------------------------------------- | --------- | :--------: | ---------------------------------------- | ----------- | :--------: |\n",
    "| CombMIN                                         | min       |     No     | CombMAX                       | max         |     No     |\n",
    "| CombMED                                         | med       |     No     | CombSUM                       | sum         |     No     |\n",
    "| CombANZ                                         | anz       |     No     | CombMNZ                       | mnz         |     No     |\n",
    "| CombGMNZ                                       | gmnz      |     No     | ISR                               | isr         |     No     |\n",
    "| Log_ISR                                         | log_isr   |     No     | LogN_ISR                     | logn_isr    |    Yes     |\n",
    "| Reciprocal Rank Fusion (RRF) | rrf       |    Yes     | PosFuse                       | posfuse     |    Yes     |\n",
    "| ProbFuse                                       | probfuse  |    Yes     | SegFuse                       | segfuse     |    Yes     |\n",
    "| SlideFuse                                     | slidefuse |    Yes     | MAPFuse                       | mapfuse     |    Yes     |\n",
    "| BordaFuse                                     | bordafuse |     No     | Weighted BordaFuse | w_bordafuse |    Yes     |\n",
    "| Condorcet                                     | condorcet |     No     | Weighted Condorcet | w_condorcet |    Yes     |\n",
    "| BayesFuse                                     | bayesfuse |    Yes     | Mixed                           | mixed       |    Yes     |\n",
    "| WMNZ                                               | wmnz      |    Yes     | Wighted Sum               | wsum        |    Yes     |\n",
    "| Rank-Biased Centroids (RBC)   | rbc       |      yes      |                                          |             |\n",
    "\n",
    "Let's try some _unsupervised_ fusion algorithms!"
   ]
  },
  {
   "cell_type": "code",
   "execution_count": 7,
   "metadata": {},
   "outputs": [
    {
     "name": "stdout",
     "output_type": "stream",
     "text": [
      "System A 0.45236291280341645\n",
      "System B 0.501471970057649\n",
      "comb_min 0.4484841464559678\n",
      "comb_max 0.5279870104050673\n",
      "comb_med 0.4835126884606188\n",
      "comb_sum 0.5434398431491004\n",
      "comb_anz 0.4835126884606188\n",
      "comb_mnz 0.5326546303230408\n"
     ]
    }
   ],
   "source": [
    "from ranx import fuse, evaluate\n",
    "\n",
    "print(run_4.name, evaluate(qrels, run_4, \"ndcg@100\"))\n",
    "print(run_5.name, evaluate(qrels, run_5, \"ndcg@100\"))\n",
    "\n",
    "for method in [\n",
    "    \"min\",  # Alias for CombMIN\n",
    "    \"max\",  # Alias for CombMAX\n",
    "    \"med\",  # Alias for CombMED\n",
    "    \"sum\",  # Alias for CombSUM\n",
    "    \"anz\",  # Alias for CombANZ\n",
    "    \"mnz\",  # Alias for CombMNZ\n",
    "]:\n",
    "\n",
    "    combined_run = fuse(\n",
    "        runs=[run_4, run_5],\n",
    "        norm=\"min-max\",  # Default normalization strategy\n",
    "        method=method,\n",
    "    )\n",
    "\n",
    "\n",
    "    print(combined_run.name, evaluate(qrels, combined_run, \"ndcg@100\"))"
   ]
  },
  {
   "cell_type": "markdown",
   "metadata": {},
   "source": [
    "## Normalization\n",
    "\n",
    "Let's try out other normalization strategies!"
   ]
  },
  {
   "cell_type": "code",
   "execution_count": 8,
   "metadata": {},
   "outputs": [
    {
     "name": "stdout",
     "output_type": "stream",
     "text": [
      "System A 0.45236291280341645\n",
      "System B 0.501471970057649\n",
      "min-max 0.5434398431491004\n",
      "max 0.516739634212384\n",
      "sum 0.5520741847476792\n",
      "zmuv 0.5436270286338574\n",
      "rank 0.5177678013739043\n",
      "borda 0.5150156642597997\n"
     ]
    }
   ],
   "source": [
    "from ranx import fuse, evaluate\n",
    "\n",
    "print(run_4.name, evaluate(qrels, run_4, \"ndcg@100\"))\n",
    "print(run_5.name, evaluate(qrels, run_5, \"ndcg@100\"))\n",
    "\n",
    "for norm in [\"min-max\", \"max\", \"sum\", \"zmuv\", \"rank\", \"borda\"]:\n",
    "    combined_run = fuse(\n",
    "        runs=[run_4, run_5],\n",
    "        norm=norm,\n",
    "        method=\"sum\",  # Alias for CombSUM\n",
    "    )\n",
    "\n",
    "    print(norm, evaluate(qrels, combined_run, \"ndcg@100\"))"
   ]
  },
  {
   "cell_type": "markdown",
   "metadata": {},
   "source": [
    "## Optimize Fusion\n",
    "\n",
    "Let's try some fusion algorithm that requires optimization!\n",
    "\n",
    "WARNING: here we use the same runs for optimizing the algorithms and to get the final combination.  \n",
    "However, in a real-world scenario you should use non-test data for the optimization phase.  \n",
    "For example, rels and runs for the dev set or few hundreads/thousands of train samples."
   ]
  },
  {
   "cell_type": "code",
   "execution_count": 9,
   "metadata": {},
   "outputs": [
    {
     "data": {
      "text/html": [
       "<pre style=\"white-space:pre;overflow-x:auto;line-height:normal;font-family:Menlo,'DejaVu Sans Mono',consolas,'Courier New',monospace\">Optimizing WSUM <span style=\"color: #729c1f; text-decoration-color: #729c1f\">━━━━━━━━━━━━━━━━━━━━━━━━━━━━━━━━━━━━━━━━</span> <span style=\"color: #800080; text-decoration-color: #800080\">100%</span> <span style=\"color: #008080; text-decoration-color: #008080\">0:00:00</span>\n",
       "</pre>\n"
      ],
      "text/plain": [
       "Optimizing WSUM \u001b[38;2;114;156;31m━━━━━━━━━━━━━━━━━━━━━━━━━━━━━━━━━━━━━━━━\u001b[0m \u001b[35m100%\u001b[0m \u001b[36m0:00:00\u001b[0m\n"
      ]
     },
     "metadata": {},
     "output_type": "display_data"
    },
    {
     "data": {
      "text/html": [
       "<pre style=\"white-space:pre;overflow-x:auto;line-height:normal;font-family:Menlo,'DejaVu Sans Mono',consolas,'Courier New',monospace\"></pre>\n"
      ],
      "text/plain": []
     },
     "metadata": {},
     "output_type": "display_data"
    },
    {
     "data": {
      "text/html": [
       "<pre style=\"white-space:pre;overflow-x:auto;line-height:normal;font-family:Menlo,'DejaVu Sans Mono',consolas,'Courier New',monospace\">\n",
       "</pre>\n"
      ],
      "text/plain": [
       "\n"
      ]
     },
     "metadata": {},
     "output_type": "display_data"
    },
    {
     "name": "stdout",
     "output_type": "stream",
     "text": [
      "weighted_sum 0.555987399857977\n"
     ]
    }
   ],
   "source": [
    "from ranx import fuse, evaluate, optimize_fusion\n",
    "\n",
    "print(run_4.name, evaluate(qrels, run_4, \"ndcg@100\"))\n",
    "print(run_5.name, evaluate(qrels, run_5, \"ndcg@100\"))\n",
    "\n",
    "# Optimize a given fusion method\n",
    "best_params = optimize_fusion(\n",
    "    qrels=qrels,\n",
    "    runs=[run_4, run_5],\n",
    "    norm=\"min-max\",  # Default value\n",
    "    method=\"wsum\",  # Alias for Weighted Sum\n",
    "    metric=\"ndcg@100\",  # Metric we want to maximize\n",
    ")\n",
    "\n",
    "combined_run = fuse(\n",
    "    runs=[run_4, run_5],\n",
    "    norm=\"min-max\",  # Default value\n",
    "    method=\"wsum\",  # Alias for Weighted Sum\n",
    "    params=best_params,\n",
    ")\n",
    "\n",
    "print(combined_run.name, evaluate(qrels, combined_run, \"ndcg@100\"))"
   ]
  },
  {
   "cell_type": "markdown",
   "metadata": {},
   "source": [
    "The hyper-parameter search space can be altered as in the next cell.  \n",
    "Please, refer to the official documentation for a complete list of the  \n",
    "search space parameters of each algorithm."
   ]
  },
  {
   "cell_type": "code",
   "execution_count": 10,
   "metadata": {},
   "outputs": [
    {
     "data": {
      "text/html": [
       "<pre style=\"white-space:pre;overflow-x:auto;line-height:normal;font-family:Menlo,'DejaVu Sans Mono',consolas,'Courier New',monospace\">Optimizing WSUM <span style=\"color: #729c1f; text-decoration-color: #729c1f\">━━━━━━━━━━━━━━━━━━━━━━━━━━━━━━━━━━━━━━━━</span> <span style=\"color: #800080; text-decoration-color: #800080\">100%</span> <span style=\"color: #008080; text-decoration-color: #008080\">0:00:00</span>\n",
       "</pre>\n"
      ],
      "text/plain": [
       "Optimizing WSUM \u001b[38;2;114;156;31m━━━━━━━━━━━━━━━━━━━━━━━━━━━━━━━━━━━━━━━━\u001b[0m \u001b[35m100%\u001b[0m \u001b[36m0:00:00\u001b[0m\n"
      ]
     },
     "metadata": {},
     "output_type": "display_data"
    },
    {
     "data": {
      "text/html": [
       "<pre style=\"white-space:pre;overflow-x:auto;line-height:normal;font-family:Menlo,'DejaVu Sans Mono',consolas,'Courier New',monospace\"></pre>\n"
      ],
      "text/plain": []
     },
     "metadata": {},
     "output_type": "display_data"
    },
    {
     "data": {
      "text/html": [
       "<pre style=\"white-space:pre;overflow-x:auto;line-height:normal;font-family:Menlo,'DejaVu Sans Mono',consolas,'Courier New',monospace\">\n",
       "</pre>\n"
      ],
      "text/plain": [
       "\n"
      ]
     },
     "metadata": {},
     "output_type": "display_data"
    },
    {
     "name": "stdout",
     "output_type": "stream",
     "text": [
      "weighted_sum 0.5565951483669139\n"
     ]
    }
   ],
   "source": [
    "from ranx import fuse, evaluate, optimize_fusion\n",
    "\n",
    "print(run_4.name, evaluate(qrels, run_4, \"ndcg@100\"))\n",
    "print(run_5.name, evaluate(qrels, run_5, \"ndcg@100\"))\n",
    "\n",
    "# Optimize a given fusion method\n",
    "best_params = optimize_fusion(\n",
    "    qrels=qrels,\n",
    "    runs=[run_4, run_5],\n",
    "    norm=\"min-max\",  # Default value\n",
    "    method=\"wsum\",  # Alias for Weighted Sum\n",
    "    metric=\"ndcg@100\",  # Metric we want to maximize\n",
    "    step=0.01,\n",
    ")\n",
    "\n",
    "combined_run = fuse(\n",
    "    runs=[run_4, run_5],\n",
    "    norm=\"min-max\",  # Default value\n",
    "    method=\"wsum\",  # Alias for Weighted Sum\n",
    "    params=best_params,\n",
    ")\n",
    "\n",
    "print(combined_run.name, evaluate(qrels, combined_run, \"ndcg@100\"))"
   ]
  },
  {
   "cell_type": "markdown",
   "metadata": {},
   "source": [
    "The `optimize_fusion` method can also return a report of all the evaluated configurations."
   ]
  },
  {
   "cell_type": "code",
   "execution_count": 11,
   "metadata": {},
   "outputs": [
    {
     "data": {
      "text/html": [
       "<pre style=\"white-space:pre;overflow-x:auto;line-height:normal;font-family:Menlo,'DejaVu Sans Mono',consolas,'Courier New',monospace\">Optimizing WSUM <span style=\"color: #729c1f; text-decoration-color: #729c1f\">━━━━━━━━━━━━━━━━━━━━━━━━━━━━━━━━━━━━━━━━</span> <span style=\"color: #800080; text-decoration-color: #800080\">100%</span> <span style=\"color: #008080; text-decoration-color: #008080\">0:00:00</span>\n",
       "</pre>\n"
      ],
      "text/plain": [
       "Optimizing WSUM \u001b[38;2;114;156;31m━━━━━━━━━━━━━━━━━━━━━━━━━━━━━━━━━━━━━━━━\u001b[0m \u001b[35m100%\u001b[0m \u001b[36m0:00:00\u001b[0m\n"
      ]
     },
     "metadata": {},
     "output_type": "display_data"
    },
    {
     "data": {
      "text/html": [
       "<pre style=\"white-space:pre;overflow-x:auto;line-height:normal;font-family:Menlo,'DejaVu Sans Mono',consolas,'Courier New',monospace\"></pre>\n"
      ],
      "text/plain": []
     },
     "metadata": {},
     "output_type": "display_data"
    },
    {
     "data": {
      "text/html": [
       "<pre style=\"white-space:pre;overflow-x:auto;line-height:normal;font-family:Menlo,'DejaVu Sans Mono',consolas,'Courier New',monospace\">\n",
       "</pre>\n"
      ],
      "text/plain": [
       "\n"
      ]
     },
     "metadata": {},
     "output_type": "display_data"
    },
    {
     "data": {
      "text/html": [
       "<pre style=\"white-space:pre;overflow-x:auto;line-height:normal;font-family:Menlo,'DejaVu Sans Mono',consolas,'Courier New',monospace\"><span style=\"font-style: italic\">      Weighted SUM       </span>\n",
       "┏━━━━━━━━━━━━┳━━━━━━━━━━┓\n",
       "┃<span style=\"color: #800080; text-decoration-color: #800080; font-weight: bold\">  Weights   </span>┃<span style=\"color: #800080; text-decoration-color: #800080; font-weight: bold\"> NDCG@100 </span>┃\n",
       "┡━━━━━━━━━━━━╇━━━━━━━━━━┩\n",
       "│ (0.0, 1.0) │  0.502   │\n",
       "│ (0.1, 0.9) │  0.517   │\n",
       "│ (0.2, 0.8) │  0.531   │\n",
       "│ (0.3, 0.7) │  0.553   │\n",
       "│ <span style=\"color: #008000; text-decoration-color: #008000; font-weight: bold\">(0.4, 0.6)</span> │  <span style=\"color: #008000; text-decoration-color: #008000; font-weight: bold\">0.556</span>   │\n",
       "│ (0.5, 0.5) │  0.543   │\n",
       "│ (0.6, 0.4) │  0.528   │\n",
       "│ (0.7, 0.3) │  0.511   │\n",
       "│ (0.8, 0.2) │  0.493   │\n",
       "│ (0.9, 0.1) │  0.480   │\n",
       "│ (1.0, 0.0) │  0.452   │\n",
       "└────────────┴──────────┘\n",
       "</pre>\n"
      ],
      "text/plain": [
       "\u001b[3m      Weighted SUM       \u001b[0m\n",
       "┏━━━━━━━━━━━━┳━━━━━━━━━━┓\n",
       "┃\u001b[1;35m \u001b[0m\u001b[1;35m Weights  \u001b[0m\u001b[1;35m \u001b[0m┃\u001b[1;35m \u001b[0m\u001b[1;35mNDCG@100\u001b[0m\u001b[1;35m \u001b[0m┃\n",
       "┡━━━━━━━━━━━━╇━━━━━━━━━━┩\n",
       "│ (0.0, 1.0) │  0.502   │\n",
       "│ (0.1, 0.9) │  0.517   │\n",
       "│ (0.2, 0.8) │  0.531   │\n",
       "│ (0.3, 0.7) │  0.553   │\n",
       "│ \u001b[1;32m(0.4, 0.6)\u001b[0m │  \u001b[1;32m0.556\u001b[0m   │\n",
       "│ (0.5, 0.5) │  0.543   │\n",
       "│ (0.6, 0.4) │  0.528   │\n",
       "│ (0.7, 0.3) │  0.511   │\n",
       "│ (0.8, 0.2) │  0.493   │\n",
       "│ (0.9, 0.1) │  0.480   │\n",
       "│ (1.0, 0.0) │  0.452   │\n",
       "└────────────┴──────────┘\n"
      ]
     },
     "execution_count": 11,
     "metadata": {},
     "output_type": "execute_result"
    }
   ],
   "source": [
    "from ranx import fuse, evaluate, optimize_fusion\n",
    "\n",
    "best_params, optimization_report = optimize_fusion(\n",
    "    qrels=qrels,\n",
    "    runs=[run_4, run_5],\n",
    "    norm=\"min-max\",\n",
    "    method=\"wsum\",\n",
    "    metric=\"ndcg@100\",\n",
    "    return_optimization_report=True,\n",
    ")\n",
    "\n",
    "# The optimization results are saved in a OptimizationReport instance,\n",
    "# which provides handy functionalities such as tabular formatting\n",
    "optimization_report.to_table()"
   ]
  },
  {
   "cell_type": "code",
   "execution_count": 12,
   "metadata": {},
   "outputs": [
    {
     "data": {
      "text/html": [
       "<pre style=\"white-space:pre;overflow-x:auto;line-height:normal;font-family:Menlo,'DejaVu Sans Mono',consolas,'Courier New',monospace\"><span style=\"font-style: italic\">      Weighted SUM       </span>\n",
       "┏━━━━━━━━━━━━┳━━━━━━━━━━┓\n",
       "┃<span style=\"color: #800080; text-decoration-color: #800080; font-weight: bold\">  Weights   </span>┃<span style=\"color: #800080; text-decoration-color: #800080; font-weight: bold\"> NDCG@100 </span>┃\n",
       "┡━━━━━━━━━━━━╇━━━━━━━━━━┩\n",
       "│ (0.0, 1.0) │  0.5017  │\n",
       "│ (0.1, 0.9) │  0.5173  │\n",
       "│ (0.2, 0.8) │  0.5314  │\n",
       "│ (0.3, 0.7) │  0.5527  │\n",
       "│ <span style=\"color: #008000; text-decoration-color: #008000; font-weight: bold\">(0.4, 0.6)</span> │  <span style=\"color: #008000; text-decoration-color: #008000; font-weight: bold\">0.5560</span>  │\n",
       "│ (0.5, 0.5) │  0.5434  │\n",
       "│ (0.6, 0.4) │  0.5276  │\n",
       "│ (0.7, 0.3) │  0.5114  │\n",
       "│ (0.8, 0.2) │  0.4935  │\n",
       "│ (0.9, 0.1) │  0.4795  │\n",
       "│ (1.0, 0.0) │  0.4523  │\n",
       "└────────────┴──────────┘\n",
       "</pre>\n"
      ],
      "text/plain": [
       "\u001b[3m      Weighted SUM       \u001b[0m\n",
       "┏━━━━━━━━━━━━┳━━━━━━━━━━┓\n",
       "┃\u001b[1;35m \u001b[0m\u001b[1;35m Weights  \u001b[0m\u001b[1;35m \u001b[0m┃\u001b[1;35m \u001b[0m\u001b[1;35mNDCG@100\u001b[0m\u001b[1;35m \u001b[0m┃\n",
       "┡━━━━━━━━━━━━╇━━━━━━━━━━┩\n",
       "│ (0.0, 1.0) │  0.5017  │\n",
       "│ (0.1, 0.9) │  0.5173  │\n",
       "│ (0.2, 0.8) │  0.5314  │\n",
       "│ (0.3, 0.7) │  0.5527  │\n",
       "│ \u001b[1;32m(0.4, 0.6)\u001b[0m │  \u001b[1;32m0.5560\u001b[0m  │\n",
       "│ (0.5, 0.5) │  0.5434  │\n",
       "│ (0.6, 0.4) │  0.5276  │\n",
       "│ (0.7, 0.3) │  0.5114  │\n",
       "│ (0.8, 0.2) │  0.4935  │\n",
       "│ (0.9, 0.1) │  0.4795  │\n",
       "│ (1.0, 0.0) │  0.4523  │\n",
       "└────────────┴──────────┘\n"
      ]
     },
     "execution_count": 12,
     "metadata": {},
     "output_type": "execute_result"
    }
   ],
   "source": [
    "# You can change the number of shown digits as follows\n",
    "optimization_report.rounding_digits = 4\n",
    "optimization_report.to_table()"
   ]
  },
  {
   "cell_type": "code",
   "execution_count": 13,
   "metadata": {},
   "outputs": [
    {
     "data": {
      "text/html": [
       "<pre style=\"white-space:pre;overflow-x:auto;line-height:normal;font-family:Menlo,'DejaVu Sans Mono',consolas,'Courier New',monospace\"><span style=\"font-style: italic\">      Weighted SUM       </span>\n",
       "┏━━━━━━━━━━━━┳━━━━━━━━━━┓\n",
       "┃<span style=\"color: #800080; text-decoration-color: #800080; font-weight: bold\">  Weights   </span>┃<span style=\"color: #800080; text-decoration-color: #800080; font-weight: bold\"> NDCG@100 </span>┃\n",
       "┡━━━━━━━━━━━━╇━━━━━━━━━━┩\n",
       "│ (0.0, 1.0) │   50.2   │\n",
       "│ (0.1, 0.9) │   51.7   │\n",
       "│ (0.2, 0.8) │   53.1   │\n",
       "│ (0.3, 0.7) │   55.3   │\n",
       "│ <span style=\"color: #008000; text-decoration-color: #008000; font-weight: bold\">(0.4, 0.6)</span> │   <span style=\"color: #008000; text-decoration-color: #008000; font-weight: bold\">55.6</span>   │\n",
       "│ (0.5, 0.5) │   54.3   │\n",
       "│ (0.6, 0.4) │   52.8   │\n",
       "│ (0.7, 0.3) │   51.1   │\n",
       "│ (0.8, 0.2) │   49.3   │\n",
       "│ (0.9, 0.1) │   48.0   │\n",
       "│ (1.0, 0.0) │   45.2   │\n",
       "└────────────┴──────────┘\n",
       "</pre>\n"
      ],
      "text/plain": [
       "\u001b[3m      Weighted SUM       \u001b[0m\n",
       "┏━━━━━━━━━━━━┳━━━━━━━━━━┓\n",
       "┃\u001b[1;35m \u001b[0m\u001b[1;35m Weights  \u001b[0m\u001b[1;35m \u001b[0m┃\u001b[1;35m \u001b[0m\u001b[1;35mNDCG@100\u001b[0m\u001b[1;35m \u001b[0m┃\n",
       "┡━━━━━━━━━━━━╇━━━━━━━━━━┩\n",
       "│ (0.0, 1.0) │   50.2   │\n",
       "│ (0.1, 0.9) │   51.7   │\n",
       "│ (0.2, 0.8) │   53.1   │\n",
       "│ (0.3, 0.7) │   55.3   │\n",
       "│ \u001b[1;32m(0.4, 0.6)\u001b[0m │   \u001b[1;32m55.6\u001b[0m   │\n",
       "│ (0.5, 0.5) │   54.3   │\n",
       "│ (0.6, 0.4) │   52.8   │\n",
       "│ (0.7, 0.3) │   51.1   │\n",
       "│ (0.8, 0.2) │   49.3   │\n",
       "│ (0.9, 0.1) │   48.0   │\n",
       "│ (1.0, 0.0) │   45.2   │\n",
       "└────────────┴──────────┘\n"
      ]
     },
     "execution_count": 13,
     "metadata": {},
     "output_type": "execute_result"
    }
   ],
   "source": [
    "# You can show percentages insted of digits\n",
    "# Note that the number of shown digits is based on\n",
    "# the `rounding_digits` attribute, try changing it\n",
    "optimization_report.rounding_digits = 3\n",
    "optimization_report.show_percentages = True\n",
    "optimization_report.to_table()"
   ]
  },
  {
   "cell_type": "code",
   "execution_count": null,
   "metadata": {},
   "outputs": [],
   "source": [
    "# `rounding_digits` and `show_percentages` can be passed directly when\n",
    "# calling `optimize_fusion`\n",
    "best_params, optimization_report = optimize_fusion(\n",
    "    qrels=qrels,\n",
    "    runs=[run_4, run_5],\n",
    "    norm=\"min-max\",\n",
    "    method=\"wsum\",\n",
    "    metric=\"ndcg@100\",\n",
    "    return_optimization_report=True,\n",
    "    rounding_digits=4,\n",
    "    show_percentages=True,\n",
    ")\n",
    "\n",
    "optimization_report.to_table()"
   ]
  },
  {
   "cell_type": "code",
   "execution_count": null,
   "metadata": {},
   "outputs": [],
   "source": []
  }
 ],
 "metadata": {
  "kernelspec": {
   "display_name": "Python 3.7.13 ('ranx')",
   "language": "python",
   "name": "python3"
  },
  "language_info": {
   "codemirror_mode": {
    "name": "ipython",
    "version": 3
   },
   "file_extension": ".py",
   "mimetype": "text/x-python",
   "name": "python",
   "nbconvert_exporter": "python",
   "pygments_lexer": "ipython3",
   "version": "3.7.13"
  },
  "orig_nbformat": 4,
  "vscode": {
   "interpreter": {
    "hash": "c29283c9979d8f2052fed7fd43a3c4f46c784e7c996ee9ea7ef7c076efff956b"
   }
  }
 },
 "nbformat": 4,
 "nbformat_minor": 2
}
