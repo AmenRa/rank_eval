{
 "cells": [
  {
   "cell_type": "markdown",
   "metadata": {},
   "source": [
    "# This notebook shows the different ways to create `Qrels` and `Run` provided by `rank_eval`"
   ]
  },
  {
   "cell_type": "code",
   "execution_count": 1,
   "metadata": {},
   "outputs": [],
   "source": [
    "from rank_eval import Qrels, Run"
   ]
  },
  {
   "cell_type": "markdown",
   "metadata": {},
   "source": [
    "## 1. Query-by-Query (iterative)"
   ]
  },
  {
   "cell_type": "code",
   "execution_count": 2,
   "metadata": {},
   "outputs": [
    {
     "name": "stdout",
     "output_type": "stream",
     "text": [
      "{q_1: {doc_12: 5, doc_25: 3}, q_2: {doc_11: 6, doc_2: 1}}\n"
     ]
    }
   ],
   "source": [
    "# Create empty Qrels\n",
    "qrels = Qrels()\n",
    "# Add query to qrels\n",
    "qrels.add(\n",
    "    q_id=\"q_1\",\n",
    "    doc_ids=[\"doc_12\", \"doc_25\"],\n",
    "    scores=[5, 3],  # Only works with integers\n",
    ")\n",
    "# Add query to qrels\n",
    "qrels.add(\n",
    "    q_id=\"q_2\",\n",
    "    doc_ids=[\"doc_11\", \"doc_2\"],\n",
    "    scores=[6, 1],  # Only works with integers\n",
    ")\n",
    "print(qrels.qrels)"
   ]
  },
  {
   "cell_type": "code",
   "execution_count": 3,
   "metadata": {},
   "outputs": [
    {
     "name": "stdout",
     "output_type": "stream",
     "text": [
      "{q_1: {doc_12: 0.9, doc_23: 0.8, doc_25: 0.7, doc_36: 0.6, doc_32: 0.5, doc_35: 0.4}, q_2: {doc_12: 0.9, doc_11: 0.8, doc_25: 0.7, doc_36: 0.6, doc_2: 0.5, doc_35: 0.4}}\n"
     ]
    }
   ],
   "source": [
    "# Create empty Run\n",
    "run = Run()\n",
    "# Add query to run\n",
    "run.add(\n",
    "    q_id=\"q_1\",\n",
    "    doc_ids=[\"doc_12\", \"doc_23\", \"doc_25\", \"doc_36\", \"doc_32\", \"doc_35\"],\n",
    "    scores=[0.9, 0.8, 0.7, 0.6, 0.5, 0.4],  # Only works with floats\n",
    ")\n",
    "# Add query to run\n",
    "run.add(\n",
    "    q_id=\"q_2\",\n",
    "    doc_ids=[\"doc_12\", \"doc_11\", \"doc_25\", \"doc_36\", \"doc_2\", \"doc_35\"],\n",
    "    scores=[0.9, 0.8, 0.7, 0.6, 0.5, 0.4],  # Only works with floats\n",
    ")\n",
    "print(run.run)"
   ]
  },
  {
   "cell_type": "markdown",
   "metadata": {},
   "source": [
    "## 2. Bulk import"
   ]
  },
  {
   "cell_type": "code",
   "execution_count": 4,
   "metadata": {},
   "outputs": [
    {
     "name": "stdout",
     "output_type": "stream",
     "text": [
      "{q_1: {doc_12: 5, doc_25: 3}, q_2: {doc_11: 6, doc_2: 1}}\n"
     ]
    }
   ],
   "source": [
    "# Create empty Qrels\n",
    "qrels = Qrels()\n",
    "# Add queries to qrels\n",
    "qrels.add_multi(\n",
    "    q_ids=[\"q_1\", \"q_2\"],\n",
    "    doc_ids=[\n",
    "        [\"doc_12\", \"doc_25\"],  # q_1 relevant documents\n",
    "        [\"doc_11\", \"doc_2\"],  # q_2 relevant documents\n",
    "    ],\n",
    "    scores=[\n",
    "        [5, 3],  # q_1 relevance judgements\n",
    "        [6, 1],  # q_2 relevance judgements\n",
    "    ],\n",
    ")\n",
    "print(qrels.qrels)"
   ]
  },
  {
   "cell_type": "code",
   "execution_count": 5,
   "metadata": {},
   "outputs": [
    {
     "name": "stdout",
     "output_type": "stream",
     "text": [
      "{q_1: {doc_12: 0.9, doc_23: 0.8, doc_25: 0.7, doc_36: 0.6, doc_32: 0.5, doc_35: 0.4}, q_2: {doc_12: 0.9, doc_11: 0.8, doc_25: 0.7, doc_36: 0.6, doc_2: 0.5, doc_35: 0.4}}\n"
     ]
    }
   ],
   "source": [
    "# Create empty Run\n",
    "run = Run()\n",
    "# Add queries to run\n",
    "run.add_multi(\n",
    "    q_ids=[\"q_1\", \"q_2\"],\n",
    "    doc_ids=[\n",
    "        # q_1 retrieved documents\n",
    "        [\"doc_12\", \"doc_23\", \"doc_25\", \"doc_36\", \"doc_32\", \"doc_35\"],\n",
    "        # q_2 retrieved documents\n",
    "        [\"doc_12\", \"doc_11\", \"doc_25\", \"doc_36\", \"doc_2\", \"doc_35\"],\n",
    "    ],\n",
    "    scores=[\n",
    "        [0.9, 0.8, 0.7, 0.6, 0.5, 0.4],  # q_1 retrieved document scores\n",
    "        [0.9, 0.8, 0.7, 0.6, 0.5, 0.4],  # q_2 retrieved document scores\n",
    "    ],\n",
    ")\n",
    "print(run.run)"
   ]
  },
  {
   "cell_type": "markdown",
   "metadata": {},
   "source": [
    "## 3. From Python Dictionary"
   ]
  },
  {
   "cell_type": "code",
   "execution_count": 6,
   "metadata": {},
   "outputs": [
    {
     "name": "stdout",
     "output_type": "stream",
     "text": [
      "{q_1: {doc_12: 5, doc_25: 3}, q_2: {doc_11: 6, doc_2: 1}}\n"
     ]
    }
   ],
   "source": [
    "qrels_dict = {\n",
    "    \"q_1\": {\n",
    "        \"doc_12\": 5,\n",
    "        \"doc_25\": 3,\n",
    "    },\n",
    "    \"q_2\": {\n",
    "        \"doc_11\": 6,\n",
    "        \"doc_2\": 1,\n",
    "    },\n",
    "}\n",
    "qrels = Qrels.from_dict(qrels_dict)\n",
    "print(qrels.qrels)"
   ]
  },
  {
   "cell_type": "code",
   "execution_count": 7,
   "metadata": {},
   "outputs": [
    {
     "name": "stdout",
     "output_type": "stream",
     "text": [
      "{q_1: {doc_12: 0.9, doc_23: 0.8, doc_25: 0.7, doc_36: 0.6, doc_32: 0.5, doc_35: 0.4}, q_2: {doc_12: 0.9, doc_11: 0.8, doc_25: 0.7, doc_36: 0.6, doc_2: 0.5, doc_35: 0.4}}\n"
     ]
    }
   ],
   "source": [
    "run_dict = {\n",
    "    \"q_1\": {\n",
    "        \"doc_12\": 0.9,\n",
    "        \"doc_23\": 0.8,\n",
    "        \"doc_25\": 0.7,\n",
    "        \"doc_36\": 0.6,\n",
    "        \"doc_32\": 0.5,\n",
    "        \"doc_35\": 0.4,\n",
    "    },\n",
    "    \"q_2\": {\n",
    "        \"doc_12\": 0.9,\n",
    "        \"doc_11\": 0.8,\n",
    "        \"doc_25\": 0.7,\n",
    "        \"doc_36\": 0.6,\n",
    "        \"doc_2\": 0.5,\n",
    "        \"doc_35\": 0.4,\n",
    "    },\n",
    "}\n",
    "run = Run.from_dict(run_dict)\n",
    "print(run.run)"
   ]
  },
  {
   "cell_type": "markdown",
   "metadata": {},
   "source": [
    "## 4. From Pandas DataFrame"
   ]
  },
  {
   "cell_type": "code",
   "execution_count": 8,
   "metadata": {},
   "outputs": [],
   "source": [
    "from pandas import DataFrame"
   ]
  },
  {
   "cell_type": "code",
   "execution_count": 9,
   "metadata": {},
   "outputs": [
    {
     "name": "stdout",
     "output_type": "stream",
     "text": [
      "{q_1: {doc_12: 5, doc_25: 3}, q_2: {doc_11: 6, doc_2: 1}}\n"
     ]
    }
   ],
   "source": [
    "qrels_df = DataFrame.from_dict(\n",
    "    {\n",
    "        \"q_id\": [\n",
    "            \"q_1\", \"q_1\",\n",
    "            \"q_2\", \"q_2\",\n",
    "        ],\n",
    "        \"doc_id\": [\n",
    "            \"doc_12\", \"doc_25\",\n",
    "            \"doc_11\", \"doc_2\",\n",
    "        ],\n",
    "        \"score\": [\n",
    "            5, 3,\n",
    "            6, 1,\n",
    "        ],\n",
    "    }\n",
    ")\n",
    "qrels = Qrels.from_df(\n",
    "    df=qrels_df,\n",
    "    q_id_col=\"q_id\",\n",
    "    doc_id_col=\"doc_id\",\n",
    "    score_col=\"score\",\n",
    ")\n",
    "print(qrels.qrels)"
   ]
  },
  {
   "cell_type": "code",
   "execution_count": 11,
   "metadata": {},
   "outputs": [
    {
     "name": "stdout",
     "output_type": "stream",
     "text": [
      "{q_1: {doc_12: 0.9, doc_23: 0.8, doc_25: 0.7, doc_36: 0.6, doc_32: 0.5, doc_35: 0.4}, q_2: {doc_12: 0.9, doc_11: 0.8, doc_25: 0.7, doc_36: 0.6, doc_2: 0.5, doc_35: 0.4}}\n"
     ]
    }
   ],
   "source": [
    "run_df = DataFrame.from_dict(\n",
    "    {\n",
    "        \"q_id\": [\n",
    "            \"q_1\", \"q_1\", \"q_1\", \"q_1\", \"q_1\", \"q_1\",\n",
    "            \"q_2\", \"q_2\", \"q_2\", \"q_2\", \"q_2\", \"q_2\"\n",
    "        ],\n",
    "        \"doc_id\": [\n",
    "            \"doc_12\", \"doc_23\", \"doc_25\", \"doc_36\", \"doc_32\", \"doc_35\",\n",
    "            \"doc_12\", \"doc_11\", \"doc_25\", \"doc_36\", \"doc_2\", \"doc_35\",\n",
    "        ],\n",
    "        \"score\": [\n",
    "            0.9, 0.8, 0.7, 0.6, 0.5, 0.4, \n",
    "            0.9, 0.8, 0.7, 0.6, 0.5, 0.4,\n",
    "        ],\n",
    "    }\n",
    ")\n",
    "run = Run.from_df(\n",
    "    df=run_df,\n",
    "    q_id_col=\"q_id\",\n",
    "    doc_id_col=\"doc_id\",\n",
    "    score_col=\"score\",\n",
    ")\n",
    "print(run.run)"
   ]
  },
  {
   "cell_type": "markdown",
   "metadata": {},
   "source": [
    "## 5. From TREC-Style file"
   ]
  },
  {
   "cell_type": "code",
   "execution_count": 18,
   "metadata": {},
   "outputs": [
    {
     "name": "stdout",
     "output_type": "stream",
     "text": [
      "{q_1: {doc_12: 5, doc_25: 3}, q_2: {doc_11: 6, doc_2: 1}}\n"
     ]
    }
   ],
   "source": [
    "qrels = Qrels.from_file(\"examples/data/create_qrels_and_run/qrels.txt\")\n",
    "print(qrels.qrels)"
   ]
  },
  {
   "cell_type": "code",
   "execution_count": 19,
   "metadata": {},
   "outputs": [
    {
     "name": "stdout",
     "output_type": "stream",
     "text": [
      "{q_1: {doc_12: 0.9, doc_23: 0.8, doc_25: 0.7, doc_36: 0.6, doc_32: 0.5, doc_35: 0.4}, q_2: {doc_12: 0.9, doc_11: 0.8, doc_25: 0.7, doc_36: 0.6, doc_2: 0.5, doc_35: 0.4}}\n"
     ]
    }
   ],
   "source": [
    "run = Run.from_file(\"examples/data/create_qrels_and_run/run.txt\")\n",
    "print(run.run)"
   ]
  }
 ],
 "metadata": {
  "interpreter": {
   "hash": "c11202d2846b22eec7deaf37ea813ba92a5f75b5344a4d16688175855af7948e"
  },
  "kernelspec": {
   "display_name": "Python 3.8.6 64-bit ('base': conda)",
   "name": "python3"
  },
  "language_info": {
   "codemirror_mode": {
    "name": "ipython",
    "version": 3
   },
   "file_extension": ".py",
   "mimetype": "text/x-python",
   "name": "python",
   "nbconvert_exporter": "python",
   "pygments_lexer": "ipython3",
   "version": "3.8.6"
  },
  "orig_nbformat": 4
 },
 "nbformat": 4,
 "nbformat_minor": 2
}
